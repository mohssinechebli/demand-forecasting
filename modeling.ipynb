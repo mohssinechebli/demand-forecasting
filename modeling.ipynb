{
 "cells": [
  {
   "cell_type": "code",
   "execution_count": 7,
   "metadata": {},
   "outputs": [
    {
     "name": "stdout",
     "output_type": "stream",
     "text": [
      "Requirement already satisfied: mlflow in /usr/local/python/3.12.1/lib/python3.12/site-packages (2.17.1)\n",
      "Requirement already satisfied: pyspark in /usr/local/python/3.12.1/lib/python3.12/site-packages (3.5.3)\n",
      "Requirement already satisfied: mlflow-skinny==2.17.1 in /usr/local/python/3.12.1/lib/python3.12/site-packages (from mlflow) (2.17.1)\n",
      "Requirement already satisfied: Flask<4 in /usr/local/python/3.12.1/lib/python3.12/site-packages (from mlflow) (3.0.3)\n",
      "Requirement already satisfied: alembic!=1.10.0,<2 in /usr/local/python/3.12.1/lib/python3.12/site-packages (from mlflow) (1.13.3)\n",
      "Requirement already satisfied: docker<8,>=4.0.0 in /usr/local/python/3.12.1/lib/python3.12/site-packages (from mlflow) (7.1.0)\n",
      "Requirement already satisfied: graphene<4 in /usr/local/python/3.12.1/lib/python3.12/site-packages (from mlflow) (3.4)\n",
      "Requirement already satisfied: markdown<4,>=3.3 in /usr/local/python/3.12.1/lib/python3.12/site-packages (from mlflow) (3.7)\n",
      "Requirement already satisfied: matplotlib<4 in /home/codespace/.local/lib/python3.12/site-packages (from mlflow) (3.9.2)\n",
      "Requirement already satisfied: numpy<3 in /home/codespace/.local/lib/python3.12/site-packages (from mlflow) (2.1.1)\n",
      "Requirement already satisfied: pandas<3 in /home/codespace/.local/lib/python3.12/site-packages (from mlflow) (2.2.3)\n",
      "Requirement already satisfied: pyarrow<18,>=4.0.0 in /usr/local/python/3.12.1/lib/python3.12/site-packages (from mlflow) (17.0.0)\n",
      "Requirement already satisfied: scikit-learn<2 in /home/codespace/.local/lib/python3.12/site-packages (from mlflow) (1.5.2)\n",
      "Requirement already satisfied: scipy<2 in /home/codespace/.local/lib/python3.12/site-packages (from mlflow) (1.14.1)\n",
      "Requirement already satisfied: sqlalchemy<3,>=1.4.0 in /usr/local/python/3.12.1/lib/python3.12/site-packages (from mlflow) (2.0.36)\n",
      "Requirement already satisfied: Jinja2<4,>=2.11 in /home/codespace/.local/lib/python3.12/site-packages (from mlflow) (3.1.4)\n",
      "Requirement already satisfied: gunicorn<24 in /usr/local/python/3.12.1/lib/python3.12/site-packages (from mlflow) (23.0.0)\n",
      "Requirement already satisfied: cachetools<6,>=5.0.0 in /usr/local/python/3.12.1/lib/python3.12/site-packages (from mlflow-skinny==2.17.1->mlflow) (5.5.0)\n",
      "Requirement already satisfied: click<9,>=7.0 in /usr/local/python/3.12.1/lib/python3.12/site-packages (from mlflow-skinny==2.17.1->mlflow) (8.1.7)\n",
      "Requirement already satisfied: cloudpickle<4 in /usr/local/python/3.12.1/lib/python3.12/site-packages (from mlflow-skinny==2.17.1->mlflow) (3.1.0)\n",
      "Requirement already satisfied: databricks-sdk<1,>=0.20.0 in /usr/local/python/3.12.1/lib/python3.12/site-packages (from mlflow-skinny==2.17.1->mlflow) (0.36.0)\n",
      "Requirement already satisfied: gitpython<4,>=3.1.9 in /home/codespace/.local/lib/python3.12/site-packages (from mlflow-skinny==2.17.1->mlflow) (3.1.43)\n",
      "Requirement already satisfied: importlib-metadata!=4.7.0,<9,>=3.7.0 in /usr/local/python/3.12.1/lib/python3.12/site-packages (from mlflow-skinny==2.17.1->mlflow) (8.4.0)\n",
      "Requirement already satisfied: opentelemetry-api<3,>=1.9.0 in /usr/local/python/3.12.1/lib/python3.12/site-packages (from mlflow-skinny==2.17.1->mlflow) (1.27.0)\n",
      "Requirement already satisfied: opentelemetry-sdk<3,>=1.9.0 in /usr/local/python/3.12.1/lib/python3.12/site-packages (from mlflow-skinny==2.17.1->mlflow) (1.27.0)\n",
      "Requirement already satisfied: packaging<25 in /home/codespace/.local/lib/python3.12/site-packages (from mlflow-skinny==2.17.1->mlflow) (24.1)\n",
      "Requirement already satisfied: protobuf<6,>=3.12.0 in /usr/local/python/3.12.1/lib/python3.12/site-packages (from mlflow-skinny==2.17.1->mlflow) (5.28.3)\n",
      "Requirement already satisfied: pyyaml<7,>=5.1 in /home/codespace/.local/lib/python3.12/site-packages (from mlflow-skinny==2.17.1->mlflow) (6.0.2)\n",
      "Requirement already satisfied: requests<3,>=2.17.3 in /home/codespace/.local/lib/python3.12/site-packages (from mlflow-skinny==2.17.1->mlflow) (2.32.3)\n",
      "Requirement already satisfied: sqlparse<1,>=0.4.0 in /usr/local/python/3.12.1/lib/python3.12/site-packages (from mlflow-skinny==2.17.1->mlflow) (0.5.1)\n",
      "Requirement already satisfied: py4j==0.10.9.7 in /usr/local/python/3.12.1/lib/python3.12/site-packages (from pyspark) (0.10.9.7)\n",
      "Requirement already satisfied: Mako in /usr/local/python/3.12.1/lib/python3.12/site-packages (from alembic!=1.10.0,<2->mlflow) (1.3.6)\n",
      "Requirement already satisfied: typing-extensions>=4 in /home/codespace/.local/lib/python3.12/site-packages (from alembic!=1.10.0,<2->mlflow) (4.9.0)\n",
      "Requirement already satisfied: urllib3>=1.26.0 in /home/codespace/.local/lib/python3.12/site-packages (from docker<8,>=4.0.0->mlflow) (2.2.3)\n",
      "Requirement already satisfied: Werkzeug>=3.0.0 in /usr/local/python/3.12.1/lib/python3.12/site-packages (from Flask<4->mlflow) (3.0.6)\n",
      "Requirement already satisfied: itsdangerous>=2.1.2 in /usr/local/python/3.12.1/lib/python3.12/site-packages (from Flask<4->mlflow) (2.2.0)\n",
      "Requirement already satisfied: blinker>=1.6.2 in /usr/local/python/3.12.1/lib/python3.12/site-packages (from Flask<4->mlflow) (1.8.2)\n",
      "Requirement already satisfied: graphql-core<3.3,>=3.1 in /usr/local/python/3.12.1/lib/python3.12/site-packages (from graphene<4->mlflow) (3.2.5)\n",
      "Requirement already satisfied: graphql-relay<3.3,>=3.1 in /usr/local/python/3.12.1/lib/python3.12/site-packages (from graphene<4->mlflow) (3.2.0)\n",
      "Requirement already satisfied: MarkupSafe>=2.0 in /home/codespace/.local/lib/python3.12/site-packages (from Jinja2<4,>=2.11->mlflow) (2.1.5)\n",
      "Requirement already satisfied: contourpy>=1.0.1 in /home/codespace/.local/lib/python3.12/site-packages (from matplotlib<4->mlflow) (1.3.0)\n",
      "Requirement already satisfied: cycler>=0.10 in /home/codespace/.local/lib/python3.12/site-packages (from matplotlib<4->mlflow) (0.12.1)\n",
      "Requirement already satisfied: fonttools>=4.22.0 in /home/codespace/.local/lib/python3.12/site-packages (from matplotlib<4->mlflow) (4.54.1)\n",
      "Requirement already satisfied: kiwisolver>=1.3.1 in /home/codespace/.local/lib/python3.12/site-packages (from matplotlib<4->mlflow) (1.4.7)\n",
      "Requirement already satisfied: pillow>=8 in /home/codespace/.local/lib/python3.12/site-packages (from matplotlib<4->mlflow) (10.4.0)\n",
      "Requirement already satisfied: pyparsing>=2.3.1 in /home/codespace/.local/lib/python3.12/site-packages (from matplotlib<4->mlflow) (3.1.4)\n",
      "Requirement already satisfied: python-dateutil>=2.7 in /home/codespace/.local/lib/python3.12/site-packages (from matplotlib<4->mlflow) (2.9.0.post0)\n",
      "Requirement already satisfied: pytz>=2020.1 in /home/codespace/.local/lib/python3.12/site-packages (from pandas<3->mlflow) (2024.2)\n",
      "Requirement already satisfied: tzdata>=2022.7 in /home/codespace/.local/lib/python3.12/site-packages (from pandas<3->mlflow) (2024.2)\n",
      "Requirement already satisfied: joblib>=1.2.0 in /home/codespace/.local/lib/python3.12/site-packages (from scikit-learn<2->mlflow) (1.4.2)\n",
      "Requirement already satisfied: threadpoolctl>=3.1.0 in /home/codespace/.local/lib/python3.12/site-packages (from scikit-learn<2->mlflow) (3.5.0)\n",
      "Requirement already satisfied: greenlet!=0.4.17 in /usr/local/python/3.12.1/lib/python3.12/site-packages (from sqlalchemy<3,>=1.4.0->mlflow) (3.1.1)\n",
      "Requirement already satisfied: google-auth~=2.0 in /usr/local/python/3.12.1/lib/python3.12/site-packages (from databricks-sdk<1,>=0.20.0->mlflow-skinny==2.17.1->mlflow) (2.35.0)\n",
      "Requirement already satisfied: gitdb<5,>=4.0.1 in /home/codespace/.local/lib/python3.12/site-packages (from gitpython<4,>=3.1.9->mlflow-skinny==2.17.1->mlflow) (4.0.11)\n",
      "Requirement already satisfied: zipp>=0.5 in /usr/local/python/3.12.1/lib/python3.12/site-packages (from importlib-metadata!=4.7.0,<9,>=3.7.0->mlflow-skinny==2.17.1->mlflow) (3.20.2)\n",
      "Requirement already satisfied: deprecated>=1.2.6 in /usr/local/python/3.12.1/lib/python3.12/site-packages (from opentelemetry-api<3,>=1.9.0->mlflow-skinny==2.17.1->mlflow) (1.2.14)\n",
      "Requirement already satisfied: opentelemetry-semantic-conventions==0.48b0 in /usr/local/python/3.12.1/lib/python3.12/site-packages (from opentelemetry-sdk<3,>=1.9.0->mlflow-skinny==2.17.1->mlflow) (0.48b0)\n",
      "Requirement already satisfied: six>=1.5 in /home/codespace/.local/lib/python3.12/site-packages (from python-dateutil>=2.7->matplotlib<4->mlflow) (1.16.0)\n",
      "Requirement already satisfied: charset-normalizer<4,>=2 in /home/codespace/.local/lib/python3.12/site-packages (from requests<3,>=2.17.3->mlflow-skinny==2.17.1->mlflow) (3.3.2)\n",
      "Requirement already satisfied: idna<4,>=2.5 in /home/codespace/.local/lib/python3.12/site-packages (from requests<3,>=2.17.3->mlflow-skinny==2.17.1->mlflow) (3.10)\n",
      "Requirement already satisfied: certifi>=2017.4.17 in /home/codespace/.local/lib/python3.12/site-packages (from requests<3,>=2.17.3->mlflow-skinny==2.17.1->mlflow) (2024.8.30)\n",
      "Requirement already satisfied: wrapt<2,>=1.10 in /usr/local/python/3.12.1/lib/python3.12/site-packages (from deprecated>=1.2.6->opentelemetry-api<3,>=1.9.0->mlflow-skinny==2.17.1->mlflow) (1.16.0)\n",
      "Requirement already satisfied: smmap<6,>=3.0.1 in /home/codespace/.local/lib/python3.12/site-packages (from gitdb<5,>=4.0.1->gitpython<4,>=3.1.9->mlflow-skinny==2.17.1->mlflow) (5.0.1)\n",
      "Requirement already satisfied: pyasn1-modules>=0.2.1 in /usr/local/python/3.12.1/lib/python3.12/site-packages (from google-auth~=2.0->databricks-sdk<1,>=0.20.0->mlflow-skinny==2.17.1->mlflow) (0.4.1)\n",
      "Requirement already satisfied: rsa<5,>=3.1.4 in /usr/local/python/3.12.1/lib/python3.12/site-packages (from google-auth~=2.0->databricks-sdk<1,>=0.20.0->mlflow-skinny==2.17.1->mlflow) (4.9)\n",
      "Requirement already satisfied: pyasn1<0.7.0,>=0.4.6 in /usr/local/python/3.12.1/lib/python3.12/site-packages (from pyasn1-modules>=0.2.1->google-auth~=2.0->databricks-sdk<1,>=0.20.0->mlflow-skinny==2.17.1->mlflow) (0.6.1)\n",
      "Note: you may need to restart the kernel to use updated packages.\n"
     ]
    }
   ],
   "source": [
    "pip install mlflow pyspark"
   ]
  },
  {
   "cell_type": "code",
   "execution_count": 8,
   "metadata": {},
   "outputs": [],
   "source": [
    "# Import required libraries\n",
    "import mlflow\n",
    "from pyspark.sql import SparkSession, DataFrame\n",
    "from pyspark.sql import functions as F\n",
    "from pyspark.sql.functions import col, dayofmonth, month, year,  to_date, to_timestamp, weekofyear, dayofweek\n",
    "from pyspark.ml import Pipeline, Transformer\n",
    "from pyspark.ml.feature import VectorAssembler, Tokenizer, HashingTF, IDF, StringIndexer, OneHotEncoder\n",
    "from pyspark.ml.regression import RandomForestRegressor\n",
    "from pyspark.ml.evaluation import RegressionEvaluator\n",
    "from pyspark.ml.tuning import CrossValidator, ParamGridBuilder # in case we have compute ressources"
   ]
  },
  {
   "cell_type": "code",
   "execution_count": 9,
   "metadata": {},
   "outputs": [],
   "source": [
    "# Initialize Spark session\n",
    "my_spark = SparkSession.builder.appName(\"Sales_Forecast\").getOrCreate()"
   ]
  },
  {
   "cell_type": "code",
   "execution_count": 10,
   "metadata": {},
   "outputs": [
    {
     "name": "stderr",
     "output_type": "stream",
     "text": [
      "24/10/26 16:17:53 WARN GarbageCollectionMetrics: To enable non-built-in garbage collector(s) List(G1 Concurrent GC), users should configure it(them) to spark.eventLog.gcMetrics.youngGenerationGarbageCollectors or spark.eventLog.gcMetrics.oldGenerationGarbageCollectors\n",
      "[Stage 1:>                                                          (0 + 2) / 2]\r"
     ]
    },
    {
     "name": "stdout",
     "output_type": "stream",
     "text": [
      "root\n",
      " |-- InvoiceNo: integer (nullable = true)\n",
      " |-- StockCode: string (nullable = true)\n",
      " |-- Description: string (nullable = true)\n",
      " |-- Quantity: integer (nullable = true)\n",
      " |-- UnitPrice: double (nullable = true)\n",
      " |-- CustomerID: integer (nullable = true)\n",
      " |-- Country: string (nullable = true)\n",
      " |-- InvoiceDate: timestamp (nullable = true)\n",
      " |-- Year: integer (nullable = true)\n",
      " |-- Month: integer (nullable = true)\n",
      " |-- Week: integer (nullable = true)\n",
      " |-- Day: integer (nullable = true)\n",
      " |-- DayOfWeek: integer (nullable = true)\n",
      "\n"
     ]
    },
    {
     "name": "stderr",
     "output_type": "stream",
     "text": [
      "                                                                                \r"
     ]
    }
   ],
   "source": [
    "# Importing sales data\n",
    "sales_data = my_spark.read.csv(\"Online Retail.csv\", \n",
    "                               header=True, \n",
    "                               inferSchema=True, \n",
    "                               sep=\",\")\n",
    "# Display the schema\n",
    "sales_data.printSchema()"
   ]
  },
  {
   "cell_type": "code",
   "execution_count": 11,
   "metadata": {},
   "outputs": [],
   "source": [
    "# Define renaming dictionary\n",
    "renaming_dict = {\n",
    "    \"InvoiceNo\": \"invoice_no\",\n",
    "    \"StockCode\": \"stock_code\",\n",
    "    \"Description\": \"description\",\n",
    "    \"Quantity\": \"quantity\",\n",
    "    \"UnitPrice\": \"unit_price\",\n",
    "    \"CustomerID\": \"customer_id\",\n",
    "    \"Country\": \"country\",\n",
    "    \"InvoiceDate\": \"invoice_date\",\n",
    "    \"Year\": \"year\",\n",
    "    \"Month\": \"month\",\n",
    "    \"Week\": \"week\",\n",
    "    \"Day\": \"day\",\n",
    "    \"DayOfWeek\": \"day_of_week\"\n",
    "}\n",
    "class RenameColumns(Transformer):\n",
    "    def __init__(self, renaming_dict):\n",
    "        super(RenameColumns, self).__init__()\n",
    "        self.renaming_dict = renaming_dict\n",
    "\n",
    "    def _transform(self, dataset: DataFrame) -> DataFrame:\n",
    "        return dataset.select([col(c).alias(self.renaming_dict.get(c, c)) for c in dataset.columns])\n",
    "class MeanEncoder(Transformer):\n",
    "    def __init__(self, inputCol=None, targetCol=None, outputCol=None):\n",
    "        super(MeanEncoder, self).__init__()\n",
    "        self.inputCol = inputCol\n",
    "        self.targetCol = targetCol\n",
    "        self.outputCol = outputCol\n",
    "\n",
    "    def _transform(self, df: DataFrame) -> DataFrame:\n",
    "        # Calculate the mean of the target column for each unique value in the input column\n",
    "        encoding_df = df.groupBy(self.inputCol).agg(F.mean(self.targetCol).alias(self.outputCol))\n",
    "        # Join this mean encoding back to the original DataFrame\n",
    "        return df.join(encoding_df, on=self.inputCol, how=\"left\")"
   ]
  },
  {
   "cell_type": "code",
   "execution_count": 12,
   "metadata": {},
   "outputs": [
    {
     "name": "stderr",
     "output_type": "stream",
     "text": [
      "                                                                                \r"
     ]
    }
   ],
   "source": [
    "# stage 1 : Create an instance of the RenameColumns transformer\n",
    "rename_transformer = RenameColumns(renaming_dict)\n",
    "\n",
    "# stage 2 : Create the country StringIndexer\n",
    "country_indexer = StringIndexer(inputCol=\"country\",\n",
    "                                outputCol=\"country_index\")\n",
    "\n",
    "# stage 3 : Create the country OneHotEncoder\n",
    "country_encoder = OneHotEncoder(inputCol=\"country_index\",\n",
    "                                outputCol=\"country_fact\")\n",
    "\n",
    "# stage 4 : Create the stock_code MeanEncoder\n",
    "mean_encoder = MeanEncoder(inputCol=\"stock_code\", \n",
    "                           targetCol=\"quantity\", \n",
    "                           outputCol=\"stock_code_mean\")\n",
    "\n",
    "# stage 5 : Create the descripotion Tokenizer\n",
    "tokenizer = Tokenizer(inputCol=\"description\", \n",
    "                      outputCol=\"description_words\")\n",
    "\n",
    "# stage 6 : Create the HashingTF \n",
    "hashing_tf = HashingTF(inputCol=\"description_words\", \n",
    "                       outputCol=\"description_tf\", \n",
    "                       numFeatures=1000)\n",
    "# stage 7 : Create the IDF\n",
    "idf = IDF(inputCol=\"description_tf\", outputCol=\"description_tfidf\")\n",
    "\n",
    "# stage 8 : Create the day_of_week_encoder\n",
    "day_of_week_encoder = OneHotEncoder(inputCols=[\"day_of_week\"], outputCols=[\"day_of_week_encoded\"])\n",
    "\n",
    "# stage 9 : Create the month_encoder\n",
    "month_encoder = OneHotEncoder(inputCols=[\"month\"], outputCols=[\"month_encoded\"])\n",
    "\n",
    "# stage 10 : Make a VectorAssembler\n",
    "vec_assembler = VectorAssembler(inputCols=[\"invoice_no\",\n",
    "                                           \"country_fact\", \n",
    "                                           \"unit_price\", \n",
    "                                           \"customer_id\", \n",
    "                                           \"year\", \n",
    "                                           \"month_encoded\",\n",
    "                                           \"week\",\n",
    "                                           \"day\",\n",
    "                                           \"day_of_week_encoded\",\n",
    "                                           \"stock_code_mean\",\n",
    "                                           \"description_tfidf\"], \n",
    "                                outputCol=\"features\")\n",
    "# Make the pipeline\n",
    "demand_pipe = Pipeline(stages=[rename_transformer,\n",
    "                               country_indexer, \n",
    "                               country_encoder,\n",
    "                               mean_encoder,\n",
    "                               tokenizer,\n",
    "                               hashing_tf,\n",
    "                               idf,\n",
    "                               day_of_week_encoder,\n",
    "                               month_encoder,\n",
    "                               vec_assembler])\n",
    "# Fit and transform your data with the pipeline\n",
    "pipeline_model = demand_pipe.fit(sales_data)\n",
    "transformed_data = pipeline_model.transform(sales_data)\n",
    "\n",
    "# Define the splitting date\n",
    "split_date = \"2011-09-25\"\n",
    "\n",
    "# Split the data into two sets based on the splitting date\n",
    "training = transformed_data.filter(transformed_data.invoice_date <= split_date)\n",
    "test = transformed_data.filter(transformed_data.invoice_date > split_date)\n",
    "\n",
    "# Create the RegressionEvaluator instances\n",
    "rmse_evaluator = RegressionEvaluator(labelCol=\"quantity\", predictionCol=\"prediction\", metricName=\"rmse\")\n",
    "mean_quantity = sales_data.agg(F.mean(\"Quantity\").alias(\"mean_quantity\")).collect()[0]['mean_quantity']\n",
    "mae_evaluator = RegressionEvaluator(labelCol=\"quantity\", predictionCol=\"prediction\", metricName=\"mae\")\n",
    "r2_evaluator = RegressionEvaluator(labelCol=\"quantity\", predictionCol=\"prediction\", metricName=\"r2\")"
   ]
  },
  {
   "cell_type": "code",
   "execution_count": 14,
   "metadata": {},
   "outputs": [
    {
     "ename": "ConnectionRefusedError",
     "evalue": "[Errno 111] Connection refused",
     "output_type": "error",
     "traceback": [
      "\u001b[0;31m---------------------------------------------------------------------------\u001b[0m",
      "\u001b[0;31mConnectionRefusedError\u001b[0m                    Traceback (most recent call last)",
      "Cell \u001b[0;32mIn[14], line 2\u001b[0m\n\u001b[1;32m      1\u001b[0m \u001b[38;5;66;03m# ML Experiments\u001b[39;00m\n\u001b[0;32m----> 2\u001b[0m \u001b[43mmlflow\u001b[49m\u001b[38;5;241;43m.\u001b[39;49m\u001b[43mset_experiment\u001b[49m\u001b[43m(\u001b[49m\u001b[38;5;124;43m\"\u001b[39;49m\u001b[38;5;124;43mdemand_forecasting_random_forest\u001b[39;49m\u001b[38;5;124;43m\"\u001b[39;49m\u001b[43m)\u001b[49m\n\u001b[1;32m      3\u001b[0m \u001b[38;5;66;03m# the model parameters\u001b[39;00m\n\u001b[1;32m      4\u001b[0m params \u001b[38;5;241m=\u001b[39m {\n\u001b[1;32m      5\u001b[0m     \u001b[38;5;124m'\u001b[39m\u001b[38;5;124mmaxDepth\u001b[39m\u001b[38;5;124m'\u001b[39m: \u001b[38;5;241m15\u001b[39m,\n\u001b[1;32m      6\u001b[0m     \u001b[38;5;124m'\u001b[39m\u001b[38;5;124mnumTrees\u001b[39m\u001b[38;5;124m'\u001b[39m: \u001b[38;5;241m20\u001b[39m,\n\u001b[1;32m      7\u001b[0m }\n",
      "File \u001b[0;32m/usr/local/python/3.12.1/lib/python3.12/site-packages/mlflow/tracking/fluent.py:143\u001b[0m, in \u001b[0;36mset_experiment\u001b[0;34m(experiment_name, experiment_id)\u001b[0m\n\u001b[1;32m    135\u001b[0m \u001b[38;5;28;01mif\u001b[39;00m (experiment_name \u001b[38;5;129;01mis\u001b[39;00m \u001b[38;5;129;01mnot\u001b[39;00m \u001b[38;5;28;01mNone\u001b[39;00m \u001b[38;5;129;01mand\u001b[39;00m experiment_id \u001b[38;5;129;01mis\u001b[39;00m \u001b[38;5;129;01mnot\u001b[39;00m \u001b[38;5;28;01mNone\u001b[39;00m) \u001b[38;5;129;01mor\u001b[39;00m (\n\u001b[1;32m    136\u001b[0m     experiment_name \u001b[38;5;129;01mis\u001b[39;00m \u001b[38;5;28;01mNone\u001b[39;00m \u001b[38;5;129;01mand\u001b[39;00m experiment_id \u001b[38;5;129;01mis\u001b[39;00m \u001b[38;5;28;01mNone\u001b[39;00m\n\u001b[1;32m    137\u001b[0m ):\n\u001b[1;32m    138\u001b[0m     \u001b[38;5;28;01mraise\u001b[39;00m MlflowException(\n\u001b[1;32m    139\u001b[0m         message\u001b[38;5;241m=\u001b[39m\u001b[38;5;124m\"\u001b[39m\u001b[38;5;124mMust specify exactly one of: `experiment_id` or `experiment_name`.\u001b[39m\u001b[38;5;124m\"\u001b[39m,\n\u001b[1;32m    140\u001b[0m         error_code\u001b[38;5;241m=\u001b[39mINVALID_PARAMETER_VALUE,\n\u001b[1;32m    141\u001b[0m     )\n\u001b[0;32m--> 143\u001b[0m client \u001b[38;5;241m=\u001b[39m \u001b[43mMlflowClient\u001b[49m\u001b[43m(\u001b[49m\u001b[43m)\u001b[49m\n\u001b[1;32m    144\u001b[0m \u001b[38;5;28;01mif\u001b[39;00m experiment_id \u001b[38;5;129;01mis\u001b[39;00m \u001b[38;5;28;01mNone\u001b[39;00m:\n\u001b[1;32m    145\u001b[0m     experiment \u001b[38;5;241m=\u001b[39m client\u001b[38;5;241m.\u001b[39mget_experiment_by_name(experiment_name)\n",
      "File \u001b[0;32m/usr/local/python/3.12.1/lib/python3.12/site-packages/mlflow/tracking/client.py:133\u001b[0m, in \u001b[0;36mMlflowClient.__init__\u001b[0;34m(self, tracking_uri, registry_uri)\u001b[0m\n\u001b[1;32m    122\u001b[0m \u001b[38;5;250m\u001b[39m\u001b[38;5;124;03m\"\"\"\u001b[39;00m\n\u001b[1;32m    123\u001b[0m \u001b[38;5;124;03mArgs:\u001b[39;00m\n\u001b[1;32m    124\u001b[0m \u001b[38;5;124;03m    tracking_uri: Address of local or remote tracking server. If not provided, defaults\u001b[39;00m\n\u001b[0;32m   (...)\u001b[0m\n\u001b[1;32m    130\u001b[0m \u001b[38;5;124;03m        no such service was set, defaults to the tracking uri of the client.\u001b[39;00m\n\u001b[1;32m    131\u001b[0m \u001b[38;5;124;03m\"\"\"\u001b[39;00m\n\u001b[1;32m    132\u001b[0m final_tracking_uri \u001b[38;5;241m=\u001b[39m utils\u001b[38;5;241m.\u001b[39m_resolve_tracking_uri(tracking_uri)\n\u001b[0;32m--> 133\u001b[0m \u001b[38;5;28mself\u001b[39m\u001b[38;5;241m.\u001b[39m_registry_uri \u001b[38;5;241m=\u001b[39m \u001b[43mregistry_utils\u001b[49m\u001b[38;5;241;43m.\u001b[39;49m\u001b[43m_resolve_registry_uri\u001b[49m\u001b[43m(\u001b[49m\u001b[43mregistry_uri\u001b[49m\u001b[43m,\u001b[49m\u001b[43m \u001b[49m\u001b[43mtracking_uri\u001b[49m\u001b[43m)\u001b[49m\n\u001b[1;32m    134\u001b[0m \u001b[38;5;28mself\u001b[39m\u001b[38;5;241m.\u001b[39m_tracking_client \u001b[38;5;241m=\u001b[39m TrackingServiceClient(final_tracking_uri)\n",
      "File \u001b[0;32m/usr/local/python/3.12.1/lib/python3.12/site-packages/mlflow/tracking/_model_registry/utils.py:131\u001b[0m, in \u001b[0;36m_resolve_registry_uri\u001b[0;34m(registry_uri, tracking_uri)\u001b[0m\n\u001b[1;32m    130\u001b[0m \u001b[38;5;28;01mdef\u001b[39;00m \u001b[38;5;21m_resolve_registry_uri\u001b[39m(registry_uri\u001b[38;5;241m=\u001b[39m\u001b[38;5;28;01mNone\u001b[39;00m, tracking_uri\u001b[38;5;241m=\u001b[39m\u001b[38;5;28;01mNone\u001b[39;00m):\n\u001b[0;32m--> 131\u001b[0m     \u001b[38;5;28;01mreturn\u001b[39;00m registry_uri \u001b[38;5;129;01mor\u001b[39;00m \u001b[43m_get_registry_uri_from_context\u001b[49m\u001b[43m(\u001b[49m\u001b[43m)\u001b[49m \u001b[38;5;129;01mor\u001b[39;00m _resolve_tracking_uri(tracking_uri)\n",
      "File \u001b[0;32m/usr/local/python/3.12.1/lib/python3.12/site-packages/mlflow/tracking/_model_registry/utils.py:97\u001b[0m, in \u001b[0;36m_get_registry_uri_from_context\u001b[0;34m()\u001b[0m\n\u001b[1;32m     95\u001b[0m \u001b[38;5;28;01mif\u001b[39;00m _registry_uri \u001b[38;5;129;01mis\u001b[39;00m \u001b[38;5;129;01mnot\u001b[39;00m \u001b[38;5;28;01mNone\u001b[39;00m:\n\u001b[1;32m     96\u001b[0m     \u001b[38;5;28;01mreturn\u001b[39;00m _registry_uri\n\u001b[0;32m---> 97\u001b[0m \u001b[38;5;28;01melif\u001b[39;00m (uri \u001b[38;5;241m:=\u001b[39m MLFLOW_REGISTRY_URI\u001b[38;5;241m.\u001b[39mget()) \u001b[38;5;129;01mor\u001b[39;00m (uri \u001b[38;5;241m:=\u001b[39m \u001b[43m_get_registry_uri_from_spark_session\u001b[49m\u001b[43m(\u001b[49m\u001b[43m)\u001b[49m):\n\u001b[1;32m     98\u001b[0m     \u001b[38;5;28;01mreturn\u001b[39;00m uri\n\u001b[1;32m     99\u001b[0m \u001b[38;5;28;01mreturn\u001b[39;00m _registry_uri\n",
      "File \u001b[0;32m/usr/local/python/3.12.1/lib/python3.12/site-packages/mlflow/tracking/_model_registry/utils.py:90\u001b[0m, in \u001b[0;36m_get_registry_uri_from_spark_session\u001b[0;34m()\u001b[0m\n\u001b[1;32m     86\u001b[0m \u001b[38;5;28;01mif\u001b[39;00m is_in_databricks_serverless():\n\u001b[1;32m     87\u001b[0m     \u001b[38;5;66;03m# Connected to Serverless\u001b[39;00m\n\u001b[1;32m     88\u001b[0m     \u001b[38;5;28;01mreturn\u001b[39;00m \u001b[38;5;124m\"\u001b[39m\u001b[38;5;124mdatabricks-uc\u001b[39m\u001b[38;5;124m\"\u001b[39m\n\u001b[0;32m---> 90\u001b[0m \u001b[38;5;28;01mreturn\u001b[39;00m \u001b[43msession\u001b[49m\u001b[38;5;241;43m.\u001b[39;49m\u001b[43mconf\u001b[49m\u001b[38;5;241;43m.\u001b[39;49m\u001b[43mget\u001b[49m\u001b[43m(\u001b[49m\u001b[38;5;124;43m\"\u001b[39;49m\u001b[38;5;124;43mspark.mlflow.modelRegistryUri\u001b[39;49m\u001b[38;5;124;43m\"\u001b[39;49m\u001b[43m,\u001b[49m\u001b[43m \u001b[49m\u001b[38;5;28;43;01mNone\u001b[39;49;00m\u001b[43m)\u001b[49m\n",
      "File \u001b[0;32m/usr/local/python/3.12.1/lib/python3.12/site-packages/pyspark/sql/conf.py:58\u001b[0m, in \u001b[0;36mRuntimeConfig.get\u001b[0;34m(self, key, default)\u001b[0m\n\u001b[1;32m     56\u001b[0m \u001b[38;5;28;01mif\u001b[39;00m default \u001b[38;5;129;01mis\u001b[39;00m \u001b[38;5;129;01mnot\u001b[39;00m \u001b[38;5;28;01mNone\u001b[39;00m:\n\u001b[1;32m     57\u001b[0m     \u001b[38;5;28mself\u001b[39m\u001b[38;5;241m.\u001b[39m_checkType(default, \u001b[38;5;124m\"\u001b[39m\u001b[38;5;124mdefault\u001b[39m\u001b[38;5;124m\"\u001b[39m)\n\u001b[0;32m---> 58\u001b[0m \u001b[38;5;28;01mreturn\u001b[39;00m \u001b[38;5;28;43mself\u001b[39;49m\u001b[38;5;241;43m.\u001b[39;49m\u001b[43m_jconf\u001b[49m\u001b[38;5;241;43m.\u001b[39;49m\u001b[43mget\u001b[49m\u001b[43m(\u001b[49m\u001b[43mkey\u001b[49m\u001b[43m,\u001b[49m\u001b[43m \u001b[49m\u001b[43mdefault\u001b[49m\u001b[43m)\u001b[49m\n",
      "File \u001b[0;32m/usr/local/python/3.12.1/lib/python3.12/site-packages/py4j/java_gateway.py:1321\u001b[0m, in \u001b[0;36mJavaMember.__call__\u001b[0;34m(self, *args)\u001b[0m\n\u001b[1;32m   1314\u001b[0m args_command, temp_args \u001b[38;5;241m=\u001b[39m \u001b[38;5;28mself\u001b[39m\u001b[38;5;241m.\u001b[39m_build_args(\u001b[38;5;241m*\u001b[39margs)\n\u001b[1;32m   1316\u001b[0m command \u001b[38;5;241m=\u001b[39m proto\u001b[38;5;241m.\u001b[39mCALL_COMMAND_NAME \u001b[38;5;241m+\u001b[39m\\\n\u001b[1;32m   1317\u001b[0m     \u001b[38;5;28mself\u001b[39m\u001b[38;5;241m.\u001b[39mcommand_header \u001b[38;5;241m+\u001b[39m\\\n\u001b[1;32m   1318\u001b[0m     args_command \u001b[38;5;241m+\u001b[39m\\\n\u001b[1;32m   1319\u001b[0m     proto\u001b[38;5;241m.\u001b[39mEND_COMMAND_PART\n\u001b[0;32m-> 1321\u001b[0m answer \u001b[38;5;241m=\u001b[39m \u001b[38;5;28;43mself\u001b[39;49m\u001b[38;5;241;43m.\u001b[39;49m\u001b[43mgateway_client\u001b[49m\u001b[38;5;241;43m.\u001b[39;49m\u001b[43msend_command\u001b[49m\u001b[43m(\u001b[49m\u001b[43mcommand\u001b[49m\u001b[43m)\u001b[49m\n\u001b[1;32m   1322\u001b[0m return_value \u001b[38;5;241m=\u001b[39m get_return_value(\n\u001b[1;32m   1323\u001b[0m     answer, \u001b[38;5;28mself\u001b[39m\u001b[38;5;241m.\u001b[39mgateway_client, \u001b[38;5;28mself\u001b[39m\u001b[38;5;241m.\u001b[39mtarget_id, \u001b[38;5;28mself\u001b[39m\u001b[38;5;241m.\u001b[39mname)\n\u001b[1;32m   1325\u001b[0m \u001b[38;5;28;01mfor\u001b[39;00m temp_arg \u001b[38;5;129;01min\u001b[39;00m temp_args:\n",
      "File \u001b[0;32m/usr/local/python/3.12.1/lib/python3.12/site-packages/py4j/java_gateway.py:1036\u001b[0m, in \u001b[0;36mGatewayClient.send_command\u001b[0;34m(self, command, retry, binary)\u001b[0m\n\u001b[1;32m   1015\u001b[0m \u001b[38;5;28;01mdef\u001b[39;00m \u001b[38;5;21msend_command\u001b[39m(\u001b[38;5;28mself\u001b[39m, command, retry\u001b[38;5;241m=\u001b[39m\u001b[38;5;28;01mTrue\u001b[39;00m, binary\u001b[38;5;241m=\u001b[39m\u001b[38;5;28;01mFalse\u001b[39;00m):\n\u001b[1;32m   1016\u001b[0m \u001b[38;5;250m    \u001b[39m\u001b[38;5;124;03m\"\"\"Sends a command to the JVM. This method is not intended to be\u001b[39;00m\n\u001b[1;32m   1017\u001b[0m \u001b[38;5;124;03m       called directly by Py4J users. It is usually called by\u001b[39;00m\n\u001b[1;32m   1018\u001b[0m \u001b[38;5;124;03m       :class:`JavaMember` instances.\u001b[39;00m\n\u001b[0;32m   (...)\u001b[0m\n\u001b[1;32m   1034\u001b[0m \u001b[38;5;124;03m     if `binary` is `True`.\u001b[39;00m\n\u001b[1;32m   1035\u001b[0m \u001b[38;5;124;03m    \"\"\"\u001b[39;00m\n\u001b[0;32m-> 1036\u001b[0m     connection \u001b[38;5;241m=\u001b[39m \u001b[38;5;28;43mself\u001b[39;49m\u001b[38;5;241;43m.\u001b[39;49m\u001b[43m_get_connection\u001b[49m\u001b[43m(\u001b[49m\u001b[43m)\u001b[49m\n\u001b[1;32m   1037\u001b[0m     \u001b[38;5;28;01mtry\u001b[39;00m:\n\u001b[1;32m   1038\u001b[0m         response \u001b[38;5;241m=\u001b[39m connection\u001b[38;5;241m.\u001b[39msend_command(command)\n",
      "File \u001b[0;32m/usr/local/python/3.12.1/lib/python3.12/site-packages/py4j/clientserver.py:284\u001b[0m, in \u001b[0;36mJavaClient._get_connection\u001b[0;34m(self)\u001b[0m\n\u001b[1;32m    281\u001b[0m     \u001b[38;5;28;01mpass\u001b[39;00m\n\u001b[1;32m    283\u001b[0m \u001b[38;5;28;01mif\u001b[39;00m connection \u001b[38;5;129;01mis\u001b[39;00m \u001b[38;5;28;01mNone\u001b[39;00m \u001b[38;5;129;01mor\u001b[39;00m connection\u001b[38;5;241m.\u001b[39msocket \u001b[38;5;129;01mis\u001b[39;00m \u001b[38;5;28;01mNone\u001b[39;00m:\n\u001b[0;32m--> 284\u001b[0m     connection \u001b[38;5;241m=\u001b[39m \u001b[38;5;28;43mself\u001b[39;49m\u001b[38;5;241;43m.\u001b[39;49m\u001b[43m_create_new_connection\u001b[49m\u001b[43m(\u001b[49m\u001b[43m)\u001b[49m\n\u001b[1;32m    285\u001b[0m \u001b[38;5;28;01mreturn\u001b[39;00m connection\n",
      "File \u001b[0;32m/usr/local/python/3.12.1/lib/python3.12/site-packages/py4j/clientserver.py:291\u001b[0m, in \u001b[0;36mJavaClient._create_new_connection\u001b[0;34m(self)\u001b[0m\n\u001b[1;32m    287\u001b[0m \u001b[38;5;28;01mdef\u001b[39;00m \u001b[38;5;21m_create_new_connection\u001b[39m(\u001b[38;5;28mself\u001b[39m):\n\u001b[1;32m    288\u001b[0m     connection \u001b[38;5;241m=\u001b[39m ClientServerConnection(\n\u001b[1;32m    289\u001b[0m         \u001b[38;5;28mself\u001b[39m\u001b[38;5;241m.\u001b[39mjava_parameters, \u001b[38;5;28mself\u001b[39m\u001b[38;5;241m.\u001b[39mpython_parameters,\n\u001b[1;32m    290\u001b[0m         \u001b[38;5;28mself\u001b[39m\u001b[38;5;241m.\u001b[39mgateway_property, \u001b[38;5;28mself\u001b[39m)\n\u001b[0;32m--> 291\u001b[0m     \u001b[43mconnection\u001b[49m\u001b[38;5;241;43m.\u001b[39;49m\u001b[43mconnect_to_java_server\u001b[49m\u001b[43m(\u001b[49m\u001b[43m)\u001b[49m\n\u001b[1;32m    292\u001b[0m     \u001b[38;5;28mself\u001b[39m\u001b[38;5;241m.\u001b[39mset_thread_connection(connection)\n\u001b[1;32m    293\u001b[0m     \u001b[38;5;28;01mreturn\u001b[39;00m connection\n",
      "File \u001b[0;32m/usr/local/python/3.12.1/lib/python3.12/site-packages/py4j/clientserver.py:438\u001b[0m, in \u001b[0;36mClientServerConnection.connect_to_java_server\u001b[0;34m(self)\u001b[0m\n\u001b[1;32m    435\u001b[0m \u001b[38;5;28;01mif\u001b[39;00m \u001b[38;5;28mself\u001b[39m\u001b[38;5;241m.\u001b[39mssl_context:\n\u001b[1;32m    436\u001b[0m     \u001b[38;5;28mself\u001b[39m\u001b[38;5;241m.\u001b[39msocket \u001b[38;5;241m=\u001b[39m \u001b[38;5;28mself\u001b[39m\u001b[38;5;241m.\u001b[39mssl_context\u001b[38;5;241m.\u001b[39mwrap_socket(\n\u001b[1;32m    437\u001b[0m         \u001b[38;5;28mself\u001b[39m\u001b[38;5;241m.\u001b[39msocket, server_hostname\u001b[38;5;241m=\u001b[39m\u001b[38;5;28mself\u001b[39m\u001b[38;5;241m.\u001b[39mjava_address)\n\u001b[0;32m--> 438\u001b[0m \u001b[38;5;28;43mself\u001b[39;49m\u001b[38;5;241;43m.\u001b[39;49m\u001b[43msocket\u001b[49m\u001b[38;5;241;43m.\u001b[39;49m\u001b[43mconnect\u001b[49m\u001b[43m(\u001b[49m\u001b[43m(\u001b[49m\u001b[38;5;28;43mself\u001b[39;49m\u001b[38;5;241;43m.\u001b[39;49m\u001b[43mjava_address\u001b[49m\u001b[43m,\u001b[49m\u001b[43m \u001b[49m\u001b[38;5;28;43mself\u001b[39;49m\u001b[38;5;241;43m.\u001b[39;49m\u001b[43mjava_port\u001b[49m\u001b[43m)\u001b[49m\u001b[43m)\u001b[49m\n\u001b[1;32m    439\u001b[0m \u001b[38;5;28mself\u001b[39m\u001b[38;5;241m.\u001b[39mstream \u001b[38;5;241m=\u001b[39m \u001b[38;5;28mself\u001b[39m\u001b[38;5;241m.\u001b[39msocket\u001b[38;5;241m.\u001b[39mmakefile(\u001b[38;5;124m\"\u001b[39m\u001b[38;5;124mrb\u001b[39m\u001b[38;5;124m\"\u001b[39m)\n\u001b[1;32m    440\u001b[0m \u001b[38;5;28mself\u001b[39m\u001b[38;5;241m.\u001b[39mis_connected \u001b[38;5;241m=\u001b[39m \u001b[38;5;28;01mTrue\u001b[39;00m\n",
      "\u001b[0;31mConnectionRefusedError\u001b[0m: [Errno 111] Connection refused"
     ]
    }
   ],
   "source": [
    "# ML Experiments\n",
    "mlflow.set_experiment(\"demand_forecasting_random_forest\")\n",
    "# the model parameters\n",
    "params = {\n",
    "    'maxDepth': 15,\n",
    "    'numTrees': 20,\n",
    "}\n",
    "run_name = f\"maxDepth_{params['maxDepth']}_numTrees_{params['numTrees']}\"\n",
    "# Track\n",
    "with mlflow.start_run(run_name=run_name): \n",
    "    # Train\n",
    "    rf_regressor = RandomForestRegressor(featuresCol=\"features\",\n",
    "                                        labelCol=\"quantity\",\n",
    "                                        maxDepth =params[\"maxDepth\"],\n",
    "                                        numTrees=params[\"numTrees\"])  \n",
    "    model = rf_regressor.fit(training)\n",
    "    # Test\n",
    "    test_results = model.transform(test)\n",
    "    rmse = rmse_evaluator.evaluate(test_results)\n",
    "    rrmse = 100*(rmse/mean_quantity)\n",
    "    r2 = r2_evaluator.evaluate(test_results)\n",
    "    # Log \n",
    "    mlflow.log_metric(\"RMSE\", rmse)\n",
    "    mlflow.log_metric(\"RRMSE\", rrmse)\n",
    "    mlflow.log_metric(\"R2\", r2)\n",
    "    mlflow.spark.log_model(model, \"RandomForestModel\")\n",
    "    mlflow.log_params(params)\n",
    "mlflow.end_run()"
   ]
  },
  {
   "cell_type": "code",
   "execution_count": 1,
   "metadata": {},
   "outputs": [
    {
     "data": {
      "text/plain": [
       "'\\n# In case we have computational power \\n\\n# Create the parameter grid\\ngrid_regressor = ParamGridBuilder()         .addGrid(rf_regressor.maxDepth, [5, 15])         .addGrid(rf_regressor.numTrees, [20, 50])         .build()\\n# Create CrossValidator\\ncrossval_regressor = CrossValidator(estimator=rf_regressor,\\n                                     estimatorParamMaps=grid_regressor,\\n                                     evaluator=regressor_evaluator,\\n                                     numFolds=3)  # 3-fold cross-validation\\n# Fit the model\\nmodels = crossval_regressor.fit(training)\\n\\n# Extract the best model\\nmodel = models.bestModel\\n'"
      ]
     },
     "execution_count": 1,
     "metadata": {},
     "output_type": "execute_result"
    }
   ],
   "source": [
    "'''\n",
    "# Finetuning Hyperparameters\n",
    "grid_regressor = ParamGridBuilder() \\\n",
    "        .addGrid(rf_regressor.maxDepth, [5, 15]) \\\n",
    "        .addGrid(rf_regressor.numTrees, [20, 50]) \\\n",
    "        .build()\n",
    "# Create CrossValidator\n",
    "crossval_regressor = CrossValidator(estimator=rf_regressor,\n",
    "                                     estimatorParamMaps=grid_regressor,\n",
    "                                     evaluator=rmse_evaluator,\n",
    "                                     numFolds=3)  # 3-fold cross-validation\n",
    "# Fit the models \n",
    "models = crossval_regressor.fit(training)\n",
    "# Extract the best model that has the best validation\n",
    "model = models.bestModel\n",
    "'''"
   ]
  }
 ],
 "metadata": {
  "kernelspec": {
   "display_name": "Python 3",
   "language": "python",
   "name": "python3"
  },
  "language_info": {
   "codemirror_mode": {
    "name": "ipython",
    "version": 3
   },
   "file_extension": ".py",
   "mimetype": "text/x-python",
   "name": "python",
   "nbconvert_exporter": "python",
   "pygments_lexer": "ipython3",
   "version": "3.12.1"
  }
 },
 "nbformat": 4,
 "nbformat_minor": 2
}
